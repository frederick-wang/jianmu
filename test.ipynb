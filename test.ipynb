{
 "cells": [
  {
   "cell_type": "code",
   "execution_count": 3,
   "metadata": {},
   "outputs": [
    {
     "data": {
      "text/plain": [
       "<__main__.A at 0x16ea3749fc8>"
      ]
     },
     "execution_count": 3,
     "metadata": {},
     "output_type": "execute_result"
    }
   ],
   "source": [
    "import inspect\n",
    "import json\n",
    "\n",
    "class A:\n",
    "  value: str\n",
    "  \n",
    "  def __init__(self, value: str):\n",
    "    self.value = value\n",
    "    \n",
    "  def __get__(self, instance, owner):\n",
    "    return self.value\n",
    "\n",
    "a = A('hello')\n",
    "json.dumps(a)"
   ]
  }
 ],
 "metadata": {
  "kernelspec": {
   "display_name": "py37",
   "language": "python",
   "name": "python3"
  },
  "language_info": {
   "codemirror_mode": {
    "name": "ipython",
    "version": 3
   },
   "file_extension": ".py",
   "mimetype": "text/x-python",
   "name": "python",
   "nbconvert_exporter": "python",
   "pygments_lexer": "ipython3",
   "version": "3.7.15"
  },
  "orig_nbformat": 4,
  "vscode": {
   "interpreter": {
    "hash": "ff78ff0425cc0f9155b210a109259e240da28d46f09665b0b7abda662374530b"
   }
  }
 },
 "nbformat": 4,
 "nbformat_minor": 2
}
